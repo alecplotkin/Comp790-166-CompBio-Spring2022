{
 "cells": [
  {
   "cell_type": "markdown",
   "metadata": {},
   "source": [
    "# Question 1\n",
    "Understanding the Rayleigh Ritz Theorem"
   ]
  },
  {
   "cell_type": "code",
   "execution_count": 1,
   "metadata": {},
   "outputs": [],
   "source": [
    "using LinearAlgebra"
   ]
  },
  {
   "cell_type": "markdown",
   "metadata": {},
   "source": [
    "## 1. Problem Setup 1\n",
    "\n",
    "Create the adjacency matrix, A for G and compute the graph Laplacian\n",
    "matrix, L for this graph. Note that you already did this in homework 1. Just copy it here!"
   ]
  },
  {
   "cell_type": "code",
   "execution_count": 2,
   "metadata": {},
   "outputs": [
    {
     "data": {
      "text/plain": [
       "6×6 Matrix{Int64}:\n",
       " 0  1  1  0  0  0\n",
       " 1  0  1  0  0  0\n",
       " 1  1  0  0  0  0\n",
       " 0  0  0  0  1  0\n",
       " 0  0  0  1  0  1\n",
       " 0  0  0  0  1  0"
      ]
     },
     "metadata": {},
     "output_type": "display_data"
    }
   ],
   "source": [
    "# adjacency matrix\n",
    "A = [\n",
    "    [0 1 1 0 0 0];\n",
    "    [1 0 1 0 0 0];\n",
    "    [1 1 0 0 0 0];\n",
    "    [0 0 0 0 1 0];\n",
    "    [0 0 0 1 0 1];\n",
    "    [0 0 0 0 1 0]\n",
    "]"
   ]
  },
  {
   "cell_type": "code",
   "execution_count": 3,
   "metadata": {},
   "outputs": [
    {
     "data": {
      "text/plain": [
       "6×6 Matrix{Int64}:\n",
       "  2  -1  -1   0   0   0\n",
       " -1   2  -1   0   0   0\n",
       " -1  -1   2   0   0   0\n",
       "  0   0   0   1  -1   0\n",
       "  0   0   0  -1   2  -1\n",
       "  0   0   0   0  -1   1"
      ]
     },
     "metadata": {},
     "output_type": "display_data"
    }
   ],
   "source": [
    "# degree and laplacian matrices\n",
    "D = diagm(sum(A, dims = 1)[1, :])\n",
    "L = D - A\n"
   ]
  },
  {
   "cell_type": "markdown",
   "metadata": {},
   "source": [
    "## 2. Problem Setup 2\n",
    "\n",
    "Find the eigenvalues and eigenvectors of L. Note that you also have done\n",
    "this in homework 1."
   ]
  },
  {
   "cell_type": "code",
   "execution_count": 9,
   "metadata": {},
   "outputs": [
    {
     "data": {
      "text/plain": [
       "6-element Vector{Float64}:\n",
       " -1.1102230246251565e-16\n",
       "  3.9250536344271737e-17\n",
       "  0.9999999999999998\n",
       "  3.0\n",
       "  3.0\n",
       "  3.0"
      ]
     },
     "metadata": {},
     "output_type": "display_data"
    }
   ],
   "source": [
    "Λ = eigvals(L)"
   ]
  },
  {
   "cell_type": "code",
   "execution_count": 8,
   "metadata": {},
   "outputs": [
    {
     "data": {
      "text/plain": [
       "6×6 Matrix{Float64}:\n",
       " -0.57735  0.0       0.0           0.707107  -0.408248   0.0\n",
       " -0.57735  0.0       0.0          -0.707107  -0.408248   0.0\n",
       " -0.57735  0.0       0.0           0.0        0.816497   0.0\n",
       "  0.0      0.57735  -0.707107      0.0        0.0       -0.408248\n",
       "  0.0      0.57735   9.42055e-16   0.0        0.0        0.816497\n",
       "  0.0      0.57735   0.707107      0.0        0.0       -0.408248"
      ]
     },
     "metadata": {},
     "output_type": "display_data"
    }
   ],
   "source": [
    "V = eigvecs(L)"
   ]
  },
  {
   "cell_type": "markdown",
   "metadata": {},
   "source": [
    "## 3. Eigenvalue Sorting\n",
    "\n",
    "We first need to order the eigenvalues of L from largest to smallest.\n",
    "That is, you need to return the indices of eigenvalues that would sort them from smallest to largest."
   ]
  },
  {
   "cell_type": "code",
   "execution_count": 12,
   "metadata": {},
   "outputs": [
    {
     "data": {
      "text/plain": [
       "6-element Vector{Int64}:\n",
       " 1\n",
       " 2\n",
       " 3\n",
       " 4\n",
       " 5\n",
       " 6"
      ]
     },
     "metadata": {},
     "output_type": "display_data"
    }
   ],
   "source": [
    "# get indices of sorted eigenvalues\n",
    "sort_idx = sortperm(Λ)"
   ]
  },
  {
   "cell_type": "markdown",
   "metadata": {},
   "source": [
    "## 4. What Won't Be the Minimum\n",
    "\n",
    "Find the fourth smallest eigenvalue, $\\lambda_4$ and its corre-\n",
    "sponding eigenvector $v_4$. Evaluate $v_4^\\text{T}Lv_4$ and write down the number that you get."
   ]
  },
  {
   "cell_type": "code",
   "execution_count": 13,
   "metadata": {},
   "outputs": [
    {
     "data": {
      "text/plain": [
       "3.0"
      ]
     },
     "metadata": {},
     "output_type": "display_data"
    }
   ],
   "source": [
    "λ4 = Λ[sort_idx[4]]"
   ]
  },
  {
   "cell_type": "code",
   "execution_count": 15,
   "metadata": {},
   "outputs": [
    {
     "data": {
      "text/plain": [
       "6-element Vector{Float64}:\n",
       "  0.7071067811865476\n",
       " -0.7071067811865475\n",
       "  0.0\n",
       "  0.0\n",
       "  0.0\n",
       "  0.0"
      ]
     },
     "metadata": {},
     "output_type": "display_data"
    }
   ],
   "source": [
    "v4 = V[:, sort_idx[4]]"
   ]
  },
  {
   "cell_type": "code",
   "execution_count": 17,
   "metadata": {},
   "outputs": [
    {
     "data": {
      "text/plain": [
       "3.0"
      ]
     },
     "metadata": {},
     "output_type": "display_data"
    }
   ],
   "source": [
    "# total variation of fourth eigenvector\n",
    "transpose(v4) * L * v4"
   ]
  },
  {
   "cell_type": "markdown",
   "metadata": {},
   "source": [
    "## 5. Compare to the Following, which will be smaller\n",
    "\n",
    "Using the first eigenvector:"
   ]
  },
  {
   "cell_type": "code",
   "execution_count": 18,
   "metadata": {},
   "outputs": [
    {
     "data": {
      "text/plain": [
       "-1.1102230246251565e-16"
      ]
     },
     "metadata": {},
     "output_type": "display_data"
    }
   ],
   "source": [
    "λ1 = Λ[sort_idx[1]]"
   ]
  },
  {
   "cell_type": "code",
   "execution_count": 19,
   "metadata": {},
   "outputs": [
    {
     "data": {
      "text/plain": [
       "6-element Vector{Float64}:\n",
       " -0.5773502691896257\n",
       " -0.5773502691896255\n",
       " -0.5773502691896256\n",
       "  0.0\n",
       "  0.0\n",
       "  0.0"
      ]
     },
     "metadata": {},
     "output_type": "display_data"
    }
   ],
   "source": [
    "v1 = V[:, sort_idx[1]]"
   ]
  },
  {
   "cell_type": "code",
   "execution_count": 20,
   "metadata": {},
   "outputs": [
    {
     "data": {
      "text/plain": [
       "7.395570986446986e-32"
      ]
     },
     "metadata": {},
     "output_type": "display_data"
    }
   ],
   "source": [
    "transpose(v1) * L * v1"
   ]
  },
  {
   "cell_type": "markdown",
   "metadata": {},
   "source": [
    "This value is approximately equal to 0, and is lower than the value from using the fourth eigenvalue/vector."
   ]
  },
  {
   "cell_type": "markdown",
   "metadata": {},
   "source": [
    "## 6. Forming the Non-Optimal 2d Embedding"
   ]
  },
  {
   "cell_type": "code",
   "execution_count": 21,
   "metadata": {},
   "outputs": [
    {
     "data": {
      "text/plain": [
       "6×2 Matrix{Float64}:\n",
       "  0.0           0.707107\n",
       "  0.0          -0.707107\n",
       "  0.0           0.0\n",
       " -0.707107      0.0\n",
       "  9.42055e-16   0.0\n",
       "  0.707107      0.0"
      ]
     },
     "metadata": {},
     "output_type": "display_data"
    }
   ],
   "source": [
    "E34 = V[:, sort_idx[3:4]]"
   ]
  },
  {
   "cell_type": "code",
   "execution_count": 22,
   "metadata": {},
   "outputs": [
    {
     "data": {
      "text/plain": [
       "4.0"
      ]
     },
     "metadata": {},
     "output_type": "display_data"
    }
   ],
   "source": [
    "tr(transpose(E34) * L * E34)"
   ]
  },
  {
   "cell_type": "code",
   "execution_count": 23,
   "metadata": {},
   "outputs": [
    {
     "data": {
      "text/plain": [
       "4.0"
      ]
     },
     "metadata": {},
     "output_type": "display_data"
    }
   ],
   "source": [
    "sum(Λ[sort_idx[3:4]])"
   ]
  },
  {
   "cell_type": "markdown",
   "metadata": {},
   "source": [
    "The trace of the total variation on the embedding matrix is equal to the sum of the corresponding eigenvalues."
   ]
  },
  {
   "cell_type": "markdown",
   "metadata": {},
   "source": [
    "## 7. Forming the Optimal 2d Embedding"
   ]
  },
  {
   "cell_type": "code",
   "execution_count": 24,
   "metadata": {},
   "outputs": [
    {
     "data": {
      "text/plain": [
       "6×2 Matrix{Float64}:\n",
       " -0.57735  0.0\n",
       " -0.57735  0.0\n",
       " -0.57735  0.0\n",
       "  0.0      0.57735\n",
       "  0.0      0.57735\n",
       "  0.0      0.57735"
      ]
     },
     "metadata": {},
     "output_type": "display_data"
    }
   ],
   "source": [
    "E12 = V[:, sort_idx[1:2]]"
   ]
  },
  {
   "cell_type": "code",
   "execution_count": 25,
   "metadata": {},
   "outputs": [
    {
     "data": {
      "text/plain": [
       "5.2015515938010466e-30"
      ]
     },
     "metadata": {},
     "output_type": "display_data"
    }
   ],
   "source": [
    "tr(transpose(E12) * L * E12)"
   ]
  },
  {
   "cell_type": "code",
   "execution_count": 26,
   "metadata": {},
   "outputs": [
    {
     "data": {
      "text/plain": [
       "-7.177176611824392e-17"
      ]
     },
     "metadata": {},
     "output_type": "display_data"
    }
   ],
   "source": [
    "sum(Λ[sort_idx[1:2]])"
   ]
  },
  {
   "cell_type": "markdown",
   "metadata": {},
   "source": [
    "The trace of the total variation on the embedding matrix is approximately zero, and is close to the sum of the first two eigenvalues."
   ]
  },
  {
   "cell_type": "markdown",
   "metadata": {},
   "source": []
  }
 ],
 "metadata": {
  "kernelspec": {
   "display_name": "Julia 1.7.2",
   "language": "julia",
   "name": "julia-1.7"
  },
  "language_info": {
   "file_extension": ".jl",
   "mimetype": "application/julia",
   "name": "julia",
   "version": "1.7.2"
  },
  "orig_nbformat": 4
 },
 "nbformat": 4,
 "nbformat_minor": 2
}
